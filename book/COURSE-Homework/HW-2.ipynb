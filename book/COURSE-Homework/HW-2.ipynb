{
 "cells": [
  {
   "cell_type": "markdown",
   "metadata": {},
   "source": [
    "# HW 2 — Variables and Data Types"
   ]
  },
  {
   "cell_type": "markdown",
   "metadata": {},
   "source": [
    "Student Name: *Your name here*  \n",
    "Net ID: *Your ID here*  \n",
    "(Double-click this cell to type)"
   ]
  },
  {
   "cell_type": "markdown",
   "metadata": {},
   "source": [
    "---\n",
    "This homework assignment will help you review Python variables, data types, and character encodings. Answer the questions below and follow the instructions.\n",
    "\n",
    "When you're finished, you should:\n",
    "\n",
    "1. Save your Jupyter notebook with your last name  \n",
    "(Right-click the file and select \"Rename,\" e.g., \"HW-2-Your-Last-Name.ipynb\")\n",
    "\n",
    "2. Upload the Jupyter notebook file (.ipynb) to Gradescope.\n",
    "\n",
    "For help with this homework, refer to the chapters [Variables](https://info1350.github.io/Intro-CA-SP21/02-Python/04-Variables.html), [Data Types](https://info1350.github.io/Intro-CA-SP21/02-Python/05-Data-Types.html), and [Files and Character Encoding](https://info1350.github.io/Intro-CA-SP21/02-Python/07-Files-Character-Encoding.html)."
   ]
  },
  {
   "cell_type": "markdown",
   "metadata": {},
   "source": [
    "## Madlibs with Christine Darden"
   ]
  },
  {
   "cell_type": "markdown",
   "metadata": {},
   "source": [
    "**1.** The cell below contains the first line of Christine Darden's Wikipedia page. Convert this cell to \"Markdown\" and then make the words \"Christine Darden\" bolded. (1 point)\n",
    "\n",
    "(For help, see [Jupyter Tips & Tricks](https://info1350.github.io/Intro-CA-SP21/02-Python/EXTRA-Jupyter-Tips-Tricks.html))"
   ]
  },
  {
   "cell_type": "code",
   "execution_count": null,
   "metadata": {},
   "outputs": [],
   "source": [
    ">Christine Darden (born September 10, 1942, as Christine Mann) is an American mathematician,\n",
    "data analyst, and aeronautical engineer who devoted much of her 40-year career in aerodynamics\n",
    "at NASA to researching supersonic flight and sonic booms.\n",
    "-[Wikipedia](https://en.wikipedia.org/wiki/Christine_Darden)"
   ]
  },
  {
   "cell_type": "markdown",
   "metadata": {},
   "source": [
    "**2.** Go to Christine Darden's [Wikipedia page](https://en.wikipedia.org/wiki/Christine_Darden) (or look at the cell above) and find her name, birth year, and occupation. Assign these values to the corresponding variables below. You should also assign the current year to the variable `current_year`.\n",
    "\n",
    "Make sure `name` and `occupation` are strings. Make sure `birth_year` and `current_year` are integers. (4 points) "
   ]
  },
  {
   "cell_type": "code",
   "execution_count": null,
   "metadata": {},
   "outputs": [],
   "source": [
    "name ... #Your Code Here\n",
    "birth_year ... #Your Code Here\n",
    "occupation ... #Your Code Here\n",
    "current_year ... #Your Code Here"
   ]
  },
  {
   "cell_type": "markdown",
   "metadata": {},
   "source": [
    "**3.** Calculate Christine Darden's current age by using two of the variables above and [a mathematical operator](https://info1350.github.io/Intro-CA-SP21/02-Python/05-Data-Types.html#integers-floats). (Using this crude method, her calculated age might not match her true age exactly.) (1 point)"
   ]
  },
  {
   "cell_type": "code",
   "execution_count": null,
   "metadata": {},
   "outputs": [],
   "source": [
    "#Your Code Here"
   ]
  },
  {
   "cell_type": "markdown",
   "metadata": {},
   "source": [
    "**4.** Assign the Python expression above to a new variable called `current_age`. (1 point)"
   ]
  },
  {
   "cell_type": "code",
   "execution_count": null,
   "metadata": {},
   "outputs": [],
   "source": [
    "current age ... "
   ]
  },
  {
   "cell_type": "markdown",
   "metadata": {},
   "source": [
    "**5.** Insert the variable `current_age` into the f-string below (replacing \"MISSING VARAIBLE\" with the correct formatting). (2 points)"
   ]
  },
  {
   "cell_type": "code",
   "execution_count": null,
   "metadata": {},
   "outputs": [],
   "source": [
    "print(f\"{name} was a {occupation}. She was born in {birth_year} and is currently ...MISSING VARIABLE... years old.\")"
   ]
  },
  {
   "cell_type": "markdown",
   "metadata": {},
   "source": [
    "## Debugging/Troubleshooting Practice"
   ]
  },
  {
   "cell_type": "markdown",
   "metadata": {},
   "source": [
    "**6.** The code below returns an error message. Fix the error and then run the code so that it prints correctly. (1 point)"
   ]
  },
  {
   "cell_type": "code",
   "execution_count": 7,
   "metadata": {},
   "outputs": [
    {
     "ename": "SyntaxError",
     "evalue": "EOL while scanning string literal (<ipython-input-7-42dadac1cd9f>, line 1)",
     "output_type": "error",
     "traceback": [
      "\u001b[0;36m  File \u001b[0;32m\"<ipython-input-7-42dadac1cd9f>\"\u001b[0;36m, line \u001b[0;32m1\u001b[0m\n\u001b[0;31m    print(f\"{name} was a {occupation}. She was born in {birth_year}.)\u001b[0m\n\u001b[0m                                                                     ^\u001b[0m\n\u001b[0;31mSyntaxError\u001b[0m\u001b[0;31m:\u001b[0m EOL while scanning string literal\n"
     ]
    }
   ],
   "source": [
    "print(f\"{name} was a {occupation}. She was born in {birth_year}.)"
   ]
  },
  {
   "cell_type": "markdown",
   "metadata": {},
   "source": [
    "**7.** Explain why the code above produced an error message. (1 point)"
   ]
  },
  {
   "cell_type": "markdown",
   "metadata": {},
   "source": [
    "#Your Explanation Here (double-click this cell to type inside it)"
   ]
  },
  {
   "cell_type": "markdown",
   "metadata": {},
   "source": [
    "**8.** The code below also doesn't work properly. Fix the problem and then run the code so that it prints correctly. (1 point)"
   ]
  },
  {
   "cell_type": "code",
   "execution_count": 8,
   "metadata": {},
   "outputs": [
    {
     "name": "stdout",
     "output_type": "stream",
     "text": [
      "{name} was a {occupation}. She was born in {birth_year}.\n"
     ]
    }
   ],
   "source": [
    "print(\"{name} was a {occupation}. She was born in {birth_year}.\")"
   ]
  },
  {
   "cell_type": "markdown",
   "metadata": {},
   "source": [
    "**9.** Explain why the code above produced an error message. (1 point)"
   ]
  },
  {
   "cell_type": "markdown",
   "metadata": {},
   "source": [
    "#Your Explanation Here (double-click this cell to type inside it)"
   ]
  },
  {
   "cell_type": "markdown",
   "metadata": {},
   "source": [
    "## Reading a Text File About Christine Darden"
   ]
  },
  {
   "cell_type": "markdown",
   "metadata": {},
   "source": [
    "**10.** You should have the file \"GW-Hidden-Figures-Article.txt\" in your current directory. This file includes an [article](https://gwtoday.gwu.edu/christine-darden-one-nasa%E2%80%99s-%E2%80%98hidden-figures%E2%80%99) about Christine Darden published by the George Washington University news.\n",
    "\n",
    "Alter the code in the cell below so that it correctly prints out the article. (3 points)"
   ]
  },
  {
   "cell_type": "code",
   "execution_count": null,
   "metadata": {
    "scrolled": true
   },
   "outputs": [],
   "source": [
    "gw_article = open('GW-Hidden-Figures-Article.txt', mode='YOUR-CODE-HERE', encoding='YOUR-CODE-HERE').YOUR-CODE-HERE()\n",
    "print(gw_article)"
   ]
  },
  {
   "cell_type": "markdown",
   "metadata": {},
   "source": [
    "## Review — File Paths"
   ]
  },
  {
   "cell_type": "markdown",
   "metadata": {},
   "source": [
    "**11.** How would you access \"GW-Hidden-Figures-Article.txt\" if it was located in the directory above your current directory? Alter the file path below by using the relative path shortcut. (1 point)"
   ]
  },
  {
   "cell_type": "code",
   "execution_count": null,
   "metadata": {},
   "outputs": [],
   "source": [
    "'GW-Hidden-Figures-Article.txt'"
   ]
  },
  {
   "cell_type": "markdown",
   "metadata": {},
   "source": [
    "## Reflection"
   ]
  },
  {
   "cell_type": "markdown",
   "metadata": {},
   "source": [
    "**12.** In *Data Feminism*, Catherine D'Ignazio and Lauren Klein claim that data feminism is \"a way of thinking about data, both **their uses and their limits**, that is informed by direct experience, by a commitment to action, and by intersectional feminist thought.\"\n",
    "\n",
    "What are some of the potential limits of Python variables, Python data types, or character encodings that you've observed this week? Describe your thoughts in a few sentences. (3 points)"
   ]
  },
  {
   "cell_type": "markdown",
   "metadata": {},
   "source": [
    "#Your Reflection Here (double-click this cell to type inside it)"
   ]
  },
  {
   "cell_type": "markdown",
   "metadata": {},
   "source": [
    "## When You're Finished"
   ]
  },
  {
   "cell_type": "markdown",
   "metadata": {},
   "source": [
    "When you're finished, you should:\n",
    "\n",
    "1. Save your Jupyter notebook with your last name (Right-click the file and select \"Rename\")\n",
    "\n",
    "![](../images/JB-Rename.png)\n",
    "![](../images/JB-Your-Last-Name.png)\n",
    "\n",
    "2. Upload the Jupyter notebook file (.ipynb) to Gradescope."
   ]
  }
 ],
 "metadata": {
  "kernelspec": {
   "display_name": "Python 3",
   "language": "python",
   "name": "python3"
  },
  "language_info": {
   "codemirror_mode": {
    "name": "ipython",
    "version": 3
   },
   "file_extension": ".py",
   "mimetype": "text/x-python",
   "name": "python",
   "nbconvert_exporter": "python",
   "pygments_lexer": "ipython3",
   "version": "3.7.6"
  }
 },
 "nbformat": 4,
 "nbformat_minor": 4
}
